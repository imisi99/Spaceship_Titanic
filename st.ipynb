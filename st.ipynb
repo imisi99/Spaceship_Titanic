{
 "cells": [
  {
   "cell_type": "code",
   "id": "initial_id",
   "metadata": {
    "collapsed": true,
    "ExecuteTime": {
     "end_time": "2024-11-07T21:53:46.156768Z",
     "start_time": "2024-11-07T21:53:40.143613Z"
    }
   },
   "source": [
    "import numpy as np\n",
    "import matplotlib.pyplot as plt\n",
    "from sklearn.linear_model import LogisticRegression\n",
    "from sklearn.ensemble import RandomForestClassifier\n",
    "from sklearn.metrics import accuracy_score\n",
    "from sklearn.preprocessing import PolynomialFeatures, StandardScaler\n",
    "from sklearn.model_selection import train_test_split\n",
    "from utils import *\n",
    "\n",
    "plt.style.use('deeplearning.mplstyle')"
   ],
   "outputs": [],
   "execution_count": 1
  },
  {
   "metadata": {
    "ExecuteTime": {
     "end_time": "2024-11-07T21:53:47.093157Z",
     "start_time": "2024-11-07T21:53:46.844642Z"
    }
   },
   "cell_type": "code",
   "source": [
    "# viewing the features in relation the target data\n",
    "filepath = './data/train.csv'\n",
    "visual = pd.read_csv(filepath)\n",
    "plt.scatter(visual['RoomService'], visual['Transported'])\n",
    "plt.xlabel('RoomService')\n",
    "plt.ylabel('Transported')\n",
    "plt.show()"
   ],
   "id": "8c99f528c96a7b73",
   "outputs": [
    {
     "data": {
      "text/plain": [
       "<Figure size 1200x800 with 1 Axes>"
      ],
      "image/png": "[encoded data removed]"
     },
     "metadata": {},
     "output_type": "display_data"
    }
   ],
   "execution_count": 2
  },
  {
   "metadata": {
    "ExecuteTime": {
     "end_time": "2024-11-07T21:54:47.308916Z",
     "start_time": "2024-11-07T21:54:47.253478Z"
    }
   },
   "cell_type": "code",
   "source": [
    "train_data = modify_data(filepath)\n",
    "X = train_data.drop(['Transported'], axis=1)\n",
    "Y = train_data['Transported']\n",
    "\n",
    "x_tra, x_cv, Y_tra, y_cv = train_test_split(X, Y, test_size=0.3, random_state=42)\n",
    "print(x_tra.shape)\n",
    "print(x_cv.shape)\n",
    "print(Y_tra.shape)\n",
    "print(y_cv.shape)"
   ],
   "id": "62402768c893ffdb",
   "outputs": [
    {
     "name": "stdout",
     "output_type": "stream",
     "text": [
      "Data before preprocessing...\n",
      "  PassengerId HomePlanet CryoSleep  Cabin  Destination   Age    VIP  \\\n",
      "0     0001_01     Europa     False  B/0/P  TRAPPIST-1e  39.0  False   \n",
      "1     0002_01      Earth     False  F/0/S  TRAPPIST-1e  24.0  False   \n",
      "2     0003_01     Europa     False  A/0/S  TRAPPIST-1e  58.0   True   \n",
      "3     0003_02     Europa     False  A/0/S  TRAPPIST-1e  33.0  False   \n",
      "4     0004_01      Earth     False  F/1/S  TRAPPIST-1e  16.0  False   \n",
      "\n",
      "   RoomService  FoodCourt  ShoppingMall     Spa  VRDeck               Name  \\\n",
      "0          0.0        0.0           0.0     0.0     0.0    Maham Ofracculy   \n",
      "1        109.0        9.0          25.0   549.0    44.0       Juanna Vines   \n",
      "2         43.0     3576.0           0.0  6715.0    49.0      Altark Susent   \n",
      "3          0.0     1283.0         371.0  3329.0   193.0       Solam Susent   \n",
      "4        303.0       70.0         151.0   565.0     2.0  Willy Santantines   \n",
      "\n",
      "   Transported  \n",
      "0        False  \n",
      "1         True  \n",
      "2        False  \n",
      "3        False  \n",
      "4         True  \n",
      "Data after preprocessing...\n",
      "   RoomService  FoodCourt  ShoppingMall    Spa  VRDeck  Transported  \\\n",
      "0          0.0        0.0           0.0    0.0     0.0            0   \n",
      "1        109.0        9.0          25.0   25.0    44.0            1   \n",
      "2         43.0     3576.0           0.0    0.0    49.0            0   \n",
      "3          0.0     1283.0         371.0  371.0   193.0            0   \n",
      "4        303.0       70.0         151.0  151.0     2.0            1   \n",
      "\n",
      "   HomePlanet_Europa  HomePlanet_Mars  HomePlanet_Unknown  CryoSleep_True  \\\n",
      "0                  1                0                   0               0   \n",
      "1                  0                0                   0               0   \n",
      "2                  1                0                   0               0   \n",
      "3                  1                0                   0               0   \n",
      "4                  0                0                   0               0   \n",
      "\n",
      "   Destination_PSO J318.5-22  Destination_TRAPPIST-1e  Destination_Unknown  \n",
      "0                          0                        1                    0  \n",
      "1                          0                        1                    0  \n",
      "2                          0                        1                    0  \n",
      "3                          0                        1                    0  \n",
      "4                          0                        1                    0  \n",
      "(6085, 12)\n",
      "(2608, 12)\n",
      "(6085,)\n",
      "(2608,)\n"
     ]
    }
   ],
   "execution_count": 5
  },
  {
   "metadata": {},
   "cell_type": "code",
   "outputs": [],
   "execution_count": null,
   "source": [
    "# Training a Logistic Regression Model\n",
    "degree = 3\n",
    "threshold = 0.6\n",
    "models = []\n",
    "scalers = []\n",
    "polys = []\n",
    "accuracy_scores = np.zeros(degree, 2)\n",
    "for i in range(1, degree+1):\n",
    "    poly = PolynomialFeatures(degree=i, include_bias=False)\n",
    "    x_tra_poly = poly.fit_transform(x_tra)\n",
    "    x_cv_poly = poly.fit_transform(x_cv)\n",
    "    polys.append(poly)\n",
    "    \n",
    "    scaler = StandardScaler()\n",
    "    X_mapped = scaler.fit_transform(x_tra_poly)\n",
    "    X_cv_mapped = scaler.transform(x_cv_poly)\n",
    "    scalers.append(scaler)\n",
    "    \n",
    "    print(f'Training Model with degree {i}...')\n",
    "    model = LogisticRegression()\n",
    "    model.fit(X_mapped, Y_tra)\n",
    "    models.append(model)\n",
    "    print(f'Model Trained with degree {i}')\n",
    "    \n",
    "    yhat = model.predict_proba(X_mapped)\n",
    "    yhat = np.where(yhat >= threshold, 1, 0)\n",
    "    accuracy_scores[i-1, 0] = accuracy_score(Y_tra, yhat)\n",
    "    \n",
    "    yhatcv = model.predict_proba(X_cv_mapped)\n",
    "    yhatcv = np.where(yhatcv >= threshold, 1, 0)\n",
    "    accuracy_scores[i-1, 1] = accuracy_score(y_cv, yhatcv)\n",
    "    \n",
    "    \n",
    "for i in range(degree):\n",
    "    print(f'Degree {i+1} Accuracy Score: {accuracy_scores[i]}')\n",
    "    "
   ],
   "id": "5e8b04b97fd8c9be"
  },
  {
   "metadata": {},
   "cell_type": "code",
   "outputs": [],
   "execution_count": null,
   "source": [
    "# Scaling of data for other models\n",
    "scaling = StandardScaler()\n",
    "x_tra_scale = scaling.fit_transform(x_tra)\n",
    "x_cv_scale = scaling.transform(x_cv)"
   ],
   "id": "9bd439d6daee2678"
  },
  {
   "metadata": {},
   "cell_type": "code",
   "outputs": [],
   "execution_count": null,
   "source": "# Training an Ensemble Classifier Model\n",
   "id": "6d225d42a9b3759a"
  },
  {
   "metadata": {},
   "cell_type": "code",
   "outputs": [],
   "execution_count": null,
   "source": [
    "# Training a Neural Network\n",
    "nn_model = build_nn()\n",
    "threshold = 0.6\n",
    "accuracy_scores_nn = np.zeros(3, 2)\n",
    "i = 0\n",
    "for nn in nn_model:\n",
    "    \n",
    "    nn.compile(optimizer=tf.keras.optimizers.Adam(learning_rate=0.001),\n",
    "               loss=tf.keras.losses.BinaryCrossentropy(from_logits=True))\n",
    "    \n",
    "    print(f'Training {nn.name}...')\n",
    "    \n",
    "    nn.fit(x_tra_scale, Y_tra, epochs=150, verbose=0)\n",
    "    \n",
    "    print(f'{nn.name} trained')\n",
    "    \n",
    "    yhat_nn = nn.predict(x_tra_scale)\n",
    "    yhat_nn = tf.math.sigmoid(yhat_nn)\n",
    "    yhat_nn = np.where(yhat_nn >= threshold, 1, 0)\n",
    "    accuracy_scores_nn[i, 0] = accuracy_score(Y_tra, yhat_nn)\n",
    "    \n",
    "    yhat_cv_nn = nn.predict(x_cv_scale)\n",
    "    yhat_cv_nn = tf.math.sigmoid(yhat_cv_nn)\n",
    "    yhat_cv_nn = np.where(yhat_cv_nn >= threshold, 1, 0)\n",
    "    accuracy_scores_nn[i, 1] = accuracy_score(y_cv, yhat_cv_nn)\n",
    "    \n",
    "    i += 1\n",
    "    \n",
    "for j in range(3):\n",
    "    print(f'The Accuracy Score for {nn_model[j].name}: {accuracy_scores_nn[j]}')\n",
    "    "
   ],
   "id": "eaad2e76b34f2bdd"
  }
 ],
 "metadata": {
  "kernelspec": {
   "display_name": "Python 3",
   "language": "python",
   "name": "python3"
  },
  "language_info": {
   "codemirror_mode": {
    "name": "ipython",
    "version": 2
   },
   "file_extension": ".py",
   "mimetype": "text/x-python",
   "name": "python",
   "nbconvert_exporter": "python",
   "pygments_lexer": "ipython2",
   "version": "2.7.6"
  }
 },
 "nbformat": 4,
 "nbformat_minor": 5
}
